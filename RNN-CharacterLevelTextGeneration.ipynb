{
 "cells": [
  {
   "cell_type": "markdown",
   "metadata": {},
   "source": [
    "#### 1. Import and clean data"
   ]
  },
  {
   "cell_type": "code",
   "execution_count": 1,
   "metadata": {},
   "outputs": [
    {
     "name": "stdout",
     "output_type": "stream",
     "text": [
      "['data/names\\\\Arabic.txt', 'data/names\\\\Chinese.txt', 'data/names\\\\Czech.txt', 'data/names\\\\Dutch.txt', 'data/names\\\\English.txt', 'data/names\\\\French.txt', 'data/names\\\\German.txt', 'data/names\\\\Greek.txt', 'data/names\\\\Hausa.txt', 'data/names\\\\Igbo.txt', 'data/names\\\\Irish.txt', 'data/names\\\\Italian.txt', 'data/names\\\\Japanese.txt', 'data/names\\\\Korean.txt', 'data/names\\\\Polish.txt', 'data/names\\\\Portuguese.txt', 'data/names\\\\Russian.txt', 'data/names\\\\Scottish.txt', 'data/names\\\\Spanish.txt', 'data/names\\\\Vietnamese.txt', 'data/names\\\\Yoruba.txt']\n"
     ]
    }
   ],
   "source": [
    "from io import open\n",
    "import glob\n",
    "import os\n",
    "\n",
    "files_path = 'data/names/*.txt'\n",
    "def find_files(path): return(glob.glob(path))\n",
    "\n",
    "print(find_files(files_path))\n"
   ]
  },
  {
   "cell_type": "code",
   "execution_count": 2,
   "metadata": {},
   "outputs": [
    {
     "name": "stdout",
     "output_type": "stream",
     "text": [
      "Slusarski\n"
     ]
    }
   ],
   "source": [
    "import unicodedata\n",
    "import string\n",
    "\n",
    "all_letters = string.ascii_letters + \" .,;'-\"\n",
    "n_letters = len(all_letters) + 1\n",
    "\n",
    "#Turn unicode strings to ASCII\n",
    "def unicode_to_ascii(s):\n",
    "    return ''.join(\n",
    "        char for char in unicodedata.normalize('NFD', s)\n",
    "        if unicodedata.category(char) != 'Mn' and char in all_letters\n",
    "    )\n",
    "\n",
    "print(unicode_to_ascii('Ślusàrski'))"
   ]
  },
  {
   "cell_type": "code",
   "execution_count": 3,
   "metadata": {},
   "outputs": [
    {
     "name": "stdout",
     "output_type": "stream",
     "text": [
      "# categories: 21 ['Arabic', 'Chinese', 'Czech', 'Dutch', 'English', 'French', 'German', 'Greek', 'Hausa', 'Igbo', 'Irish', 'Italian', 'Japanese', 'Korean', 'Polish', 'Portuguese', 'Russian', 'Scottish', 'Spanish', 'Vietnamese', 'Yoruba']\n"
     ]
    }
   ],
   "source": [
    "category_words = {}\n",
    "all_categories = []\n",
    "\n",
    "# read a file and split it into lines\n",
    "def read_words(file_name):\n",
    "    words = open(file_name, encoding='utf-8').read().strip().split('\\n')\n",
    "    return[unicode_to_ascii(word) for word in words]\n",
    "\n",
    "for file_name in find_files(files_path):\n",
    "    category = os.path.splitext(os.path.basename(file_name))[0]\n",
    "    all_categories.append(category)\n",
    "    words = read_words(file_name)\n",
    "    category_words[category] = words\n",
    "\n",
    "n_categories = len(all_categories)\n",
    "\n",
    "print('# categories:', n_categories, all_categories)"
   ]
  },
  {
   "cell_type": "markdown",
   "metadata": {},
   "source": [
    "#### 2. Convert words to tensors"
   ]
  },
  {
   "cell_type": "code",
   "execution_count": 4,
   "metadata": {},
   "outputs": [
    {
     "name": "stdout",
     "output_type": "stream",
     "text": [
      "26\n",
      "tensor([[1., 0., 0., 0., 0., 0., 0., 0., 0., 0., 0., 0., 0., 0., 0., 0., 0., 0.,\n",
      "         0., 0., 0., 0., 0., 0., 0., 0., 0., 0., 0., 0., 0., 0., 0., 0., 0., 0.,\n",
      "         0., 0., 0., 0., 0., 0., 0., 0., 0., 0., 0., 0., 0., 0., 0., 0., 0., 0.,\n",
      "         0., 0., 0., 0., 0.]])\n",
      "torch.Size([3, 1, 59])\n",
      "tensor([[0., 0., 0., 0., 0., 0., 0., 0., 0., 0., 1., 0., 0., 0., 0., 0., 0., 0.,\n",
      "         0., 0., 0.]])\n",
      "tensor([ 7,  4, 13,  6, 58])\n",
      "category: Vietnamese \t|\t word: Doan\n",
      "category: Polish \t|\t word: Piatek\n",
      "category: Korean \t|\t word: Chu\n",
      "category: Czech \t|\t word: Urista\n",
      "category: Chinese \t|\t word: Won\n",
      "category: Vietnamese \t|\t word: Kim\n",
      "category: Portuguese \t|\t word: Albuquerque\n",
      "category: Chinese \t|\t word: Dan\n",
      "category: Irish \t|\t word: O'Kane\n",
      "category: German \t|\t word: Herrmann\n"
     ]
    }
   ],
   "source": [
    "import torch, random\n",
    "\n",
    "def letter_index(letter):\n",
    "    return all_letters.find(letter)\n",
    "\n",
    "def letter_to_tensor(letter):\n",
    "    tensor = torch.zeros(1, n_letters)\n",
    "    tensor[0][letter_index(letter)] = 1\n",
    "    return tensor\n",
    "\n",
    "def input_tensor(word):\n",
    "    tensor = torch.zeros(len(word), 1, n_letters)\n",
    "    for index, letter in enumerate(word):\n",
    "        tensor[index][0][letter_index(letter)] = 1\n",
    "    return tensor\n",
    "\n",
    "def category_tensor(category):\n",
    "    index = all_categories.index(category)\n",
    "    tensor =  torch.zeros(1, n_categories)\n",
    "    tensor[0][index] = 1\n",
    "    return tensor\n",
    "\n",
    "def target_tensor(word):\n",
    "    letter_indexes = [\n",
    "        all_letters.find(word[index])\n",
    "        for index in range(1, len(word))\n",
    "        ]\n",
    "    letter_indexes.append(n_letters - 1)\n",
    "    return torch.LongTensor(letter_indexes)\n",
    "\n",
    "def random_choice(list_item):\n",
    "    return list_item[random.randint(0, len(list_item) - 1)]\n",
    "\n",
    "def random_training_pair():\n",
    "    category = random_choice(all_categories)\n",
    "    word = random_choice(category_words[category])\n",
    "    return category, word\n",
    "\n",
    "def random_training_example():\n",
    "    _category, _word = random_training_pair()\n",
    "    _category_tensor = category_tensor(_category)\n",
    "    _input_tensor = input_tensor(_word)\n",
    "    _target_tensor = target_tensor(_word)\n",
    "    return _category_tensor, _input_tensor, _target_tensor\n",
    "    \n",
    "print(letter_index('A'))\n",
    "print(letter_to_tensor('a'))\n",
    "print(input_tensor('abc').size())\n",
    "print(category_tensor('Irish'))\n",
    "print(target_tensor('Cheng'))\n",
    "for i in range(10):\n",
    "    category, word  = random_training_pair()\n",
    "    print('category:', category, '\\t|\\t word:', word)"
   ]
  },
  {
   "attachments": {
    "image.png": {
     "image/png": "[encoded data removed]"
    }
   },
   "cell_type": "markdown",
   "metadata": {},
   "source": [
    "#### 3. RNN Network design\n",
    "![image.png](attachment:image.png)"
   ]
  },
  {
   "cell_type": "code",
   "execution_count": 5,
   "metadata": {},
   "outputs": [],
   "source": [
    "import torch\n",
    "import torch.nn as nn\n",
    "from torchinfo import summary\n",
    "\n",
    "\n",
    "class RNNWordGen(nn.Module):\n",
    "    def __init__(self, input_size, hidden_size, output_size):\n",
    "        super(RNNWordGen, self).__init__()\n",
    "        self.hidden_size = hidden_size\n",
    "        \n",
    "        self.i2h = nn.Linear(n_categories + input_size + hidden_size, hidden_size)\n",
    "        self.i2o = nn.Linear(n_categories + input_size + hidden_size, output_size)\n",
    "        self.o2o = nn.Linear(hidden_size + output_size, output_size)\n",
    "        self.dropout = nn.Dropout(0.1)\n",
    "        self.softmax = nn.LogSoftmax(dim=1)\n",
    "        \n",
    "    def forward(self, category, input, hidden):\n",
    "        input_combined = torch.cat((category, input, hidden), 1)\n",
    "        hidden = self.i2h(input_combined)\n",
    "        output = self.i2o(input_combined)\n",
    "        output_combined = torch.cat((hidden, output), 1)\n",
    "        output = self.o2o(output_combined)\n",
    "        output = self.dropout(output)\n",
    "        output = self.softmax(output)\n",
    "        return output, hidden\n",
    "    \n",
    "    def init_hidden(self):\n",
    "        return torch.zeros(1, self.hidden_size)\n",
    "    \n"
   ]
  },
  {
   "cell_type": "markdown",
   "metadata": {},
   "source": [
    "#### 4. Training"
   ]
  },
  {
   "cell_type": "code",
   "execution_count": 6,
   "metadata": {},
   "outputs": [],
   "source": [
    "criterion = nn.NLLLoss()\n",
    "learning_rate = 5e-4\n",
    "\n",
    "def train(category_tensor, input_tensor, target_tensor):\n",
    "    target_tensor.unsqueeze_(-1)\n",
    "    hidden = rnn.init_hidden()\n",
    "    \n",
    "    rnn.zero_grad()\n",
    "    losses = torch.Tensor([0])\n",
    "\n",
    "    for i in range(input_tensor.size(0)):\n",
    "        output, hidden = rnn(category_tensor, input_tensor[i], hidden)\n",
    "        loss = criterion(output, target_tensor[i])\n",
    "        losses += loss\n",
    "\n",
    "    losses.backward()\n",
    "\n",
    "    # Add parameters' gradients to their values, multiplied by learning rate\n",
    "    for p in rnn.parameters():\n",
    "        p.data.add_(p.grad.data, alpha=-learning_rate)\n",
    "\n",
    "    return output, losses.item() / input_tensor.size(0)"
   ]
  },
  {
   "cell_type": "code",
   "execution_count": 7,
   "metadata": {},
   "outputs": [
    {
     "name": "stdout",
     "output_type": "stream",
     "text": [
      "=================================================================\n",
      "Layer (type:depth-idx)                   Param #\n",
      "=================================================================\n",
      "RNNWordGen                               --\n",
      "├─Linear: 1-1                            86,272\n",
      "├─Linear: 1-2                            19,883\n",
      "├─Linear: 1-3                            18,644\n",
      "├─Dropout: 1-4                           --\n",
      "├─LogSoftmax: 1-5                        --\n",
      "=================================================================\n",
      "Total params: 124,799\n",
      "Trainable params: 124,799\n",
      "Non-trainable params: 0\n",
      "=================================================================\n",
      "500\t 5% (0m 3s) 3.8494\n",
      "1000\t 10% (0m 6s) 3.1328\n",
      "1500\t 15% (0m 9s) 3.0696\n",
      "2000\t 20% (0m 12s) 3.2185\n",
      "2500\t 25% (0m 15s) 3.1513\n",
      "3000\t 30% (0m 17s) 3.5185\n",
      "3500\t 35% (0m 20s) 2.4822\n",
      "4000\t 40% (0m 22s) 2.8840\n",
      "4500\t 45% (0m 25s) 3.0887\n",
      "5000\t 50% (0m 28s) 2.4358\n",
      "5500\t 55% (0m 30s) 2.7415\n",
      "6000\t 60% (0m 33s) 2.7018\n",
      "6500\t 65% (0m 35s) 3.3389\n",
      "7000\t 70% (0m 38s) 3.2702\n",
      "7500\t 75% (0m 40s) 2.9842\n",
      "8000\t 80% (0m 43s) 3.3026\n",
      "8500\t 85% (0m 46s) 2.8754\n",
      "9000\t 90% (0m 48s) 2.2983\n",
      "9500\t 95% (0m 51s) 2.4995\n",
      "10000\t 100% (0m 53s) 1.8849\n"
     ]
    }
   ],
   "source": [
    "import time\n",
    "import math\n",
    "\n",
    "n_hidden = 256\n",
    "rnn = RNNWordGen(n_letters, n_hidden, n_letters)\n",
    "print(summary(rnn))\n",
    "\n",
    "n_iters = 10000\n",
    "print_every = 5*n_iters//100\n",
    "plot_every = print_every//5\n",
    "\n",
    "total_loss = 0\n",
    "all_losses = []\n",
    "\n",
    "def time_since(since):\n",
    "    now = time.time()\n",
    "    sec = now - since\n",
    "    min = math.floor(sec/60)\n",
    "    sec -= min * 60\n",
    "    return '%dm %ds' % (min, sec)\n",
    "\n",
    "start = time.time()\n",
    "\n",
    "for iter in range(1, n_iters+1):\n",
    "    output, loss = train(*random_training_example())\n",
    "    total_loss += loss\n",
    "    \n",
    "    # Print ``iter`` number, loss, name and guess\n",
    "    if iter % print_every == 0:\n",
    "        print('%d\\t %d%% (%s) %.4f' % (iter, iter / n_iters * 100, time_since(start), loss))\n",
    "\n",
    "    # Add current loss avg to list of losses\n",
    "    if iter % plot_every == 0:\n",
    "        all_losses.append(total_loss / plot_every)\n",
    "        total_loss = 0\n",
    "\n",
    "model_path = 'models/name_generator.pt'\n",
    "torch.save(rnn.state_dict(), model_path)"
   ]
  },
  {
   "cell_type": "code",
   "execution_count": 8,
   "metadata": {},
   "outputs": [
    {
     "data": {
      "text/plain": [
       "<All keys matched successfully>"
      ]
     },
     "execution_count": 8,
     "metadata": {},
     "output_type": "execute_result"
    }
   ],
   "source": [
    "rnn = RNNWordGen(n_letters, n_hidden, n_letters)\n",
    "rnn.load_state_dict(torch.load(model_path))"
   ]
  },
  {
   "cell_type": "code",
   "execution_count": 9,
   "metadata": {},
   "outputs": [
    {
     "data": {
      "text/plain": [
       "[<matplotlib.lines.Line2D at 0x251881ec200>]"
      ]
     },
     "execution_count": 9,
     "metadata": {},
     "output_type": "execute_result"
    },
    {
     "data": {
      "image/png": "[encoded data removed]",
      "text/plain": [
       "<Figure size 640x480 with 1 Axes>"
      ]
     },
     "metadata": {},
     "output_type": "display_data"
    }
   ],
   "source": [
    "import matplotlib.pyplot as plt\n",
    "import matplotlib.ticker as ticker\n",
    "\n",
    "plt.figure()\n",
    "plt.plot(all_losses)"
   ]
  },
  {
   "cell_type": "markdown",
   "metadata": {},
   "source": [
    "#### 5. Evaluation"
   ]
  },
  {
   "cell_type": "code",
   "execution_count": 10,
   "metadata": {},
   "outputs": [
    {
     "ename": "ValueError",
     "evalue": "not enough values to unpack (expected 4, got 2)",
     "output_type": "error",
     "traceback": [
      "\u001b[1;31m---------------------------------------------------------------------------\u001b[0m",
      "\u001b[1;31mValueError\u001b[0m                                Traceback (most recent call last)",
      "Cell \u001b[1;32mIn[10], line 15\u001b[0m\n\u001b[0;32m     13\u001b[0m \u001b[38;5;66;03m#record correct guesses from examples\u001b[39;00m\n\u001b[0;32m     14\u001b[0m \u001b[38;5;28;01mfor\u001b[39;00m i \u001b[38;5;129;01min\u001b[39;00m \u001b[38;5;28mrange\u001b[39m(n_confusion):\n\u001b[1;32m---> 15\u001b[0m     _category, word, category_tensor, word_tensor \u001b[38;5;241m=\u001b[39m random_training_pair()\n\u001b[0;32m     16\u001b[0m     output \u001b[38;5;241m=\u001b[39m evaluate(word_tensor)\n\u001b[0;32m     17\u001b[0m     guess, guess_idx \u001b[38;5;241m=\u001b[39m category_from_output(output)\n",
      "\u001b[1;31mValueError\u001b[0m: not enough values to unpack (expected 4, got 2)"
     ]
    }
   ],
   "source": [
    "confusion = torch.zeros(n_categories, n_categories)\n",
    "n_confusion = 10000\n",
    "\n",
    "# return an output give a word\n",
    "def evaluate(word_tensor):\n",
    "    hidden = rnn.init_hidden()\n",
    "    \n",
    "    for i in range(word_tensor.size()[0]):\n",
    "        output, hidden = rnn(word_tensor[i], hidden)\n",
    "    \n",
    "    return output\n",
    "\n",
    "#record correct guesses from examples\n",
    "for i in range(n_confusion):\n",
    "    _category, word, category_tensor, word_tensor = random_training_pair()\n",
    "    output = evaluate(word_tensor)\n",
    "    guess, guess_idx = category_from_output(output)\n",
    "    category_idx = all_categories.index(_category)\n",
    "    confusion[category_idx][guess_idx] += 1\n",
    "    \n",
    "# normalize confusion\n",
    "for i in range(n_categories):\n",
    "    confusion[i] = confusion[i]/confusion[i].sum()\n",
    "\n",
    "#plot \n",
    "fig = plt.figure()\n",
    "ax = fig.add_subplot(111)\n",
    "cax = ax.matshow(confusion.numpy())\n",
    "fig.colorbar(cax)\n",
    "\n",
    "ax.set_xticklabels([''] + all_categories, rotation = 90)\n",
    "ax.set_yticklabels([''] + all_categories)\n",
    "\n",
    "ax.xaxis.set_major_locator(ticker.MultipleLocator(1))\n",
    "ax.yaxis.set_major_locator(ticker.MultipleLocator(1))\n",
    "\n",
    "plt.show()"
   ]
  },
  {
   "cell_type": "code",
   "execution_count": 12,
   "metadata": {},
   "outputs": [
    {
     "name": "stdout",
     "output_type": "stream",
     "text": [
      "Jaana\n",
      "Manan\n",
      "Aanan\n",
      "Goan\n",
      "Eanan\n",
      "Rana\n",
      "Sana\n",
      "Pana\n",
      "Aanan\n",
      "Can\n",
      "Hon\n",
      "Iana\n"
     ]
    }
   ],
   "source": [
    "max_length = 20\n",
    "\n",
    "# Sample from a category and starting letter\n",
    "def sample(category, start_letter='A'):\n",
    "    with torch.no_grad():  # no need to track history in sampling\n",
    "        _category_tensor = category_tensor(category)\n",
    "        input = input_tensor(start_letter)\n",
    "        hidden = rnn.init_hidden()\n",
    "\n",
    "        output_name = start_letter\n",
    "\n",
    "        for i in range(max_length):\n",
    "            output, hidden = rnn(_category_tensor, input[0], hidden)\n",
    "            topv, topi = output.topk(1)\n",
    "            topi = topi[0][0]\n",
    "            if topi == n_letters - 1:\n",
    "                break\n",
    "            else:\n",
    "                letter = all_letters[topi]\n",
    "                output_name += letter\n",
    "            input = input_tensor(letter)\n",
    "\n",
    "        return output_name\n",
    "\n",
    "# Get multiple samples from one category and multiple starting letters\n",
    "def samples(category, start_letters='ABC'):\n",
    "    for start_letter in start_letters:\n",
    "        print(sample(category, start_letter))\n",
    "\n",
    "samples('Russian', 'JMA')\n",
    "\n",
    "samples('German', 'GER')\n",
    "\n",
    "samples('Spanish', 'SPA')\n",
    "\n",
    "samples('Chinese', 'CHI')"
   ]
  },
  {
   "cell_type": "code",
   "execution_count": 13,
   "metadata": {},
   "outputs": [
    {
     "data": {
      "text/plain": [
       "'Aana'"
      ]
     },
     "execution_count": 13,
     "metadata": {},
     "output_type": "execute_result"
    }
   ],
   "source": [
    "sample('Arabic')"
   ]
  }
 ],
 "metadata": {
  "kernelspec": {
   "display_name": "ML-AI",
   "language": "python",
   "name": "python3"
  },
  "language_info": {
   "codemirror_mode": {
    "name": "ipython",
    "version": 3
   },
   "file_extension": ".py",
   "mimetype": "text/x-python",
   "name": "python",
   "nbconvert_exporter": "python",
   "pygments_lexer": "ipython3",
   "version": "3.12.1"
  }
 },
 "nbformat": 4,
 "nbformat_minor": 2
}
