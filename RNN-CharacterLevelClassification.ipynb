{
 "cells": [
  {
   "cell_type": "markdown",
   "metadata": {},
   "source": [
    "#### 1. Import and clean data"
   ]
  },
  {
   "cell_type": "code",
   "execution_count": 1,
   "metadata": {},
   "outputs": [
    {
     "name": "stdout",
     "output_type": "stream",
     "text": [
      "['data/names\\\\Arabic.txt', 'data/names\\\\Chinese.txt', 'data/names\\\\Czech.txt', 'data/names\\\\Dutch.txt', 'data/names\\\\English.txt', 'data/names\\\\French.txt', 'data/names\\\\German.txt', 'data/names\\\\Greek.txt', 'data/names\\\\Hausa.txt', 'data/names\\\\Igbo.txt', 'data/names\\\\Irish.txt', 'data/names\\\\Italian.txt', 'data/names\\\\Japanese.txt', 'data/names\\\\Korean.txt', 'data/names\\\\Polish.txt', 'data/names\\\\Portuguese.txt', 'data/names\\\\Russian.txt', 'data/names\\\\Scottish.txt', 'data/names\\\\Spanish.txt', 'data/names\\\\Vietnamese.txt', 'data/names\\\\Yoruba.txt']\n"
     ]
    }
   ],
   "source": [
    "from io import open\n",
    "import glob\n",
    "import os\n",
    "\n",
    "files_path = 'data/names/*.txt'\n",
    "def find_files(path): return(glob.glob(path))\n",
    "\n",
    "print(find_files(files_path))\n"
   ]
  },
  {
   "cell_type": "code",
   "execution_count": 2,
   "metadata": {},
   "outputs": [
    {
     "name": "stdout",
     "output_type": "stream",
     "text": [
      "Slusarski\n"
     ]
    }
   ],
   "source": [
    "import unicodedata\n",
    "import string\n",
    "\n",
    "all_letters = string.ascii_letters + \" .,;'\"\n",
    "n_letters = len(all_letters)\n",
    "\n",
    "#Turn unicode strings to ASCII\n",
    "def unicode_to_ascii(s):\n",
    "\treturn ''.join(\n",
    "\t\tchar for char in unicodedata.normalize('NFD', s)\n",
    "\t\tif unicodedata.category(char) != 'Mn' and char in all_letters\n",
    "\t)\n",
    "\n",
    "print(unicode_to_ascii('Ślusàrski'))"
   ]
  },
  {
   "cell_type": "code",
   "execution_count": 3,
   "metadata": {},
   "outputs": [
    {
     "name": "stdout",
     "output_type": "stream",
     "text": [
      "['Khoury', 'Nahas', 'Daher', 'Gerges', 'Nazari']\n"
     ]
    }
   ],
   "source": [
    "category_words = {}\n",
    "all_categories = []\n",
    "\n",
    "# read a file and split it into lines\n",
    "def read_words(file_name):\n",
    "\twords = open(file_name, encoding='utf-8').read().strip().split('\\n')\n",
    "\treturn[unicode_to_ascii(word) for word in words]\n",
    "\n",
    "for file_name in find_files(files_path):\n",
    "\tcategory = os.path.splitext(os.path.basename(file_name))[0]\n",
    "\tall_categories.append(category)\n",
    "\twords = read_words(file_name)\n",
    "\tcategory_words[category] = words\n",
    "\n",
    "n_categories = len(all_categories)\n",
    "\n",
    "print(category_words['Arabic'][:5])"
   ]
  },
  {
   "cell_type": "markdown",
   "metadata": {},
   "source": [
    "#### 2. Convert words to tensors"
   ]
  },
  {
   "cell_type": "code",
   "execution_count": 4,
   "metadata": {},
   "outputs": [
    {
     "name": "stdout",
     "output_type": "stream",
     "text": [
      "36\n",
      "tensor([[1., 0., 0., 0., 0., 0., 0., 0., 0., 0., 0., 0., 0., 0., 0., 0., 0., 0.,\n",
      "         0., 0., 0., 0., 0., 0., 0., 0., 0., 0., 0., 0., 0., 0., 0., 0., 0., 0.,\n",
      "         0., 0., 0., 0., 0., 0., 0., 0., 0., 0., 0., 0., 0., 0., 0., 0., 0., 0.,\n",
      "         0., 0., 0.]])\n",
      "torch.Size([3, 1, 57])\n"
     ]
    }
   ],
   "source": [
    "import torch\n",
    "def letter_index(letter):\n",
    "\treturn all_letters.find(letter)\n",
    "\n",
    "def letter_to_tensor(letter):\n",
    "\ttensor = torch.zeros(1, n_letters)\n",
    "\ttensor[0][letter_index(letter)] = 1\n",
    "\treturn tensor\n",
    "\n",
    "def word_to_tensor(word):\n",
    "\ttensor = torch.zeros(len(word), 1, n_letters)\n",
    "\tfor li, letter in enumerate(word):\n",
    "\t\ttensor[li][0][letter_index(letter)] = 1\n",
    "\treturn tensor\n",
    "\n",
    "print(letter_index('K'))\n",
    "print(letter_to_tensor('a'))\n",
    "print(word_to_tensor('abc').size())"
   ]
  },
  {
   "cell_type": "markdown",
   "metadata": {},
   "source": [
    "#### 3. RNN Network design"
   ]
  },
  {
   "cell_type": "code",
   "execution_count": 5,
   "metadata": {},
   "outputs": [
    {
     "name": "stdout",
     "output_type": "stream",
     "text": [
      "=================================================================\n",
      "Layer (type:depth-idx)                   Param #\n",
      "=================================================================\n",
      "RNN                                      --\n",
      "├─Linear: 1-1                            7,424\n",
      "├─Linear: 1-2                            16,512\n",
      "├─Linear: 1-3                            2,709\n",
      "├─LogSoftmax: 1-4                        --\n",
      "=================================================================\n",
      "Total params: 26,645\n",
      "Trainable params: 26,645\n",
      "Non-trainable params: 0\n",
      "=================================================================\n"
     ]
    }
   ],
   "source": [
    "import torch.nn as nn\n",
    "import torch.nn.functional as F\n",
    "from torchinfo import summary\n",
    "class RNN(nn.Module):\n",
    "\tdef __init__(self, input_size, hidden_size, output_size):\n",
    "\t\tsuper(RNN, self).__init__()\n",
    "\t\tself.hidden_size = hidden_size\n",
    "\t\t\n",
    "\t\tself.i2h = nn.Linear(input_size, hidden_size)\n",
    "\t\tself.h2h = nn.Linear(hidden_size, hidden_size)\n",
    "\t\tself.h2o = nn.Linear(hidden_size, output_size)\n",
    "\t\tself.softmax = nn.LogSoftmax(dim=1)\n",
    "\t\t\n",
    "\tdef forward(self, input, hidden):\n",
    "\t\thidden = F.tanh(self.i2h(input) + self.h2h(hidden))\n",
    "\t\toutput = self.h2o(hidden)\n",
    "\t\toutput = self.softmax(output)\n",
    "\t\treturn output, hidden\n",
    "\t\n",
    "\tdef init_hidden(self):\n",
    "\t\treturn torch.zeros(1, self.hidden_size)\n",
    "\t\n",
    "n_hidden = 128\n",
    "rnn = RNN(n_letters, n_hidden, n_categories)\n",
    "print(summary(rnn))"
   ]
  },
  {
   "cell_type": "code",
   "execution_count": 6,
   "metadata": {},
   "outputs": [
    {
     "name": "stdout",
     "output_type": "stream",
     "text": [
      "tensor([[-3.1649, -3.1294, -3.0618, -3.0530, -3.1604, -3.1914, -2.9375, -3.0571,\n",
      "         -3.0268, -3.0332, -2.8855, -2.8868, -2.9682, -3.1257, -2.9849, -2.9785,\n",
      "         -3.0497, -3.1642, -2.9719, -3.0379, -3.1515]],\n",
      "       grad_fn=<LogSoftmaxBackward0>)\n"
     ]
    }
   ],
   "source": [
    "# test network\n",
    "input = word_to_tensor('Hafiz')\n",
    "hidden = torch.zeros(1, n_hidden)\n",
    "\n",
    "output, next_hidden = rnn(input[0], hidden)\n",
    "print(output)"
   ]
  },
  {
   "cell_type": "markdown",
   "metadata": {},
   "source": [
    "#### 4. Training"
   ]
  },
  {
   "cell_type": "code",
   "execution_count": 7,
   "metadata": {},
   "outputs": [
    {
     "name": "stdout",
     "output_type": "stream",
     "text": [
      "('Irish', 10)\n"
     ]
    }
   ],
   "source": [
    "# Get propability category from output tensor\n",
    "def category_from_output(output):\n",
    "\ttop_num, top_num_idx = output.topk(1)\n",
    "\tcategory_i = top_num_idx[0].item()\n",
    "\treturn all_categories[category_i], category_i\n",
    "\n",
    "print(category_from_output(output))"
   ]
  },
  {
   "cell_type": "code",
   "execution_count": 8,
   "metadata": {},
   "outputs": [
    {
     "name": "stdout",
     "output_type": "stream",
     "text": [
      "category: French \t|\t word: Sauvage\n",
      "category: Arabic \t|\t word: Sabbagh\n",
      "category: Czech \t|\t word: Macikova\n",
      "category: Dutch \t|\t word: Roijakker\n",
      "category: Japanese \t|\t word: Iriye\n",
      "category: Yoruba \t|\t word: Ogunkolade\n",
      "category: Russian \t|\t word: Abuhoff\n",
      "category: Chinese \t|\t word: AuYong\n",
      "category: Greek \t|\t word: Pispinis\n",
      "category: Polish \t|\t word: Sowka\n"
     ]
    }
   ],
   "source": [
    "# randomly select samples from training set\n",
    "\n",
    "import random\n",
    "\n",
    "def random_choice(length):\n",
    "\treturn length[random.randint(0, len(length) - 1)]\n",
    "\n",
    "def random_training_example():\n",
    "\tcategory = random_choice(all_categories)\n",
    "\tword = random_choice(category_words[category])\n",
    "\tcategory_tensor = torch.tensor([all_categories.index(category)], dtype=torch.long)\n",
    "\tword_tensor = word_to_tensor(word)\n",
    "\treturn category, word, category_tensor, word_tensor\n",
    "\n",
    "for i in range(10):\n",
    "\tcategory, word, category_tensor, word_tensor = random_training_example()\n",
    "\tprint('category:', category, '\\t|\\t word:', word)"
   ]
  },
  {
   "cell_type": "code",
   "execution_count": 9,
   "metadata": {},
   "outputs": [],
   "source": [
    "criterion = nn.NLLLoss()\n",
    "learning_rate = 5e-3"
   ]
  },
  {
   "cell_type": "code",
   "execution_count": 10,
   "metadata": {},
   "outputs": [],
   "source": [
    "def train(category, word_tensor):\n",
    "\thidden = rnn.init_hidden()\n",
    "\t\n",
    "\trnn.zero_grad()\n",
    "\t\n",
    "\tfor i in range(word_tensor.size()[0]):\n",
    "\t\toutput, hidden = rnn(word_tensor[i], hidden)\n",
    "\t\n",
    "\tloss = criterion(output, category_tensor)\n",
    "\tloss.backward()\n",
    "\n",
    "\t# Add parameters' gradients to their values, multiplied by learning rate\n",
    "\tfor p in rnn.parameters():\n",
    "\t\tp.data.add_(p.grad.data, alpha=-learning_rate)\n",
    "\n",
    "\treturn output, loss.item()"
   ]
  },
  {
   "cell_type": "code",
   "execution_count": 11,
   "metadata": {},
   "outputs": [
    {
     "name": "stdout",
     "output_type": "stream",
     "text": [
      "500 5% (0m 1s) 3.1165 Tikhobaev / German ✗ (Russian)\n",
      "1000 10% (0m 3s) 3.1211 D'cruze / Arabic ✗ (Portuguese)\n",
      "1500 15% (0m 5s) 2.8974 Aswad / Czech ✗ (Arabic)\n",
      "2000 20% (0m 6s) 3.0056 Bakanchuk / Polish ✗ (Russian)\n",
      "2500 25% (0m 8s) 2.9426 Palumbo / Yoruba ✗ (Italian)\n",
      "3000 30% (0m 9s) 2.7603 Baba / Japanese ✗ (Hausa)\n",
      "3500 35% (0m 11s) 2.8057 Gledhill / German ✗ (English)\n",
      "4000 40% (0m 12s) 2.8900 Meeuwes / Greek ✗ (Dutch)\n",
      "4500 45% (0m 14s) 1.7294 Xiao / Chinese ✓\n",
      "5000 50% (0m 15s) 3.1548 Rios / Korean ✗ (Portuguese)\n",
      "5500 55% (0m 17s) 2.5672 Nosek / Czech ✗ (Polish)\n",
      "6000 60% (0m 18s) 2.9644 Poggio / Portuguese ✗ (Italian)\n",
      "6500 65% (0m 20s) 2.2042 Ganim / Arabic ✓\n",
      "7000 70% (0m 21s) 1.6489 Mateus / Portuguese ✓\n",
      "7500 75% (0m 23s) 1.7522 Morrison / Scottish ✓\n",
      "8000 80% (0m 25s) 1.6643 anjuma / Hausa ✓\n",
      "8500 85% (0m 26s) 2.8192 Fonseca / Yoruba ✗ (Portuguese)\n",
      "9000 90% (0m 27s) 1.0995 Ding / Chinese ✓\n",
      "9500 95% (0m 29s) 1.4086 Reuter / German ✓\n",
      "10000 100% (0m 30s) 3.8485 Ego / Vietnamese ✗ (Igbo)\n"
     ]
    }
   ],
   "source": [
    "import time\n",
    "import math\n",
    "\n",
    "n_iters = 10000\n",
    "print_every = 5*n_iters//100\n",
    "plot_every = print_every//5\n",
    "\n",
    "current_loss = 0\n",
    "all_losses = []\n",
    "\n",
    "def time_since(since):\n",
    "    now = time.time()\n",
    "    sec = now - since\n",
    "    min = math.floor(sec/60)\n",
    "    sec -= min * 60\n",
    "    return '%dm %ds' % (min, sec)\n",
    "\n",
    "start = time.time()\n",
    "\n",
    "for iter in range(1, n_iters+1):\n",
    "    category, word, category_tensor, word_tensor = random_training_example()\n",
    "    output, loss = train(category_tensor, word_tensor)\n",
    "    current_loss += loss\n",
    "    \n",
    "    # Print ``iter`` number, loss, name and guess\n",
    "    if iter % print_every == 0:\n",
    "        guess, guess_i = category_from_output(output)\n",
    "        correct = '✓' if guess == category else '✗ (%s)' % category\n",
    "        print('%d %d%% (%s) %.4f %s / %s %s' % (iter, iter / n_iters * 100, time_since(start), loss, word, guess, correct))\n",
    "\n",
    "    # Add current loss avg to list of losses\n",
    "    if iter % plot_every == 0:\n",
    "        all_losses.append(current_loss / plot_every)\n",
    "        current_loss = 0\n",
    "\n",
    "model_path = 'models/name_classifier.pt'\n",
    "torch.save(rnn.state_dict(), model_path)"
   ]
  },
  {
   "cell_type": "code",
   "execution_count": 12,
   "metadata": {},
   "outputs": [
    {
     "data": {
      "text/plain": [
       "<All keys matched successfully>"
      ]
     },
     "execution_count": 12,
     "metadata": {},
     "output_type": "execute_result"
    }
   ],
   "source": [
    "rnn = RNN(n_letters, n_hidden, n_categories)\n",
    "rnn.load_state_dict(torch.load(model_path))"
   ]
  },
  {
   "cell_type": "code",
   "execution_count": 13,
   "metadata": {},
   "outputs": [
    {
     "data": {
      "text/plain": [
       "[<matplotlib.lines.Line2D at 0x207e64e8470>]"
      ]
     },
     "execution_count": 13,
     "metadata": {},
     "output_type": "execute_result"
    },
    {
     "data": {
      "image/png": "[encoded data removed]",
      "text/plain": [
       "<Figure size 640x480 with 1 Axes>"
      ]
     },
     "metadata": {},
     "output_type": "display_data"
    }
   ],
   "source": [
    "import matplotlib.pyplot as plt\n",
    "import matplotlib.ticker as ticker\n",
    "\n",
    "plt.figure()\n",
    "plt.plot(all_losses)"
   ]
  },
  {
   "cell_type": "markdown",
   "metadata": {},
   "source": [
    "#### 5. Evaluation"
   ]
  },
  {
   "cell_type": "code",
   "execution_count": 14,
   "metadata": {},
   "outputs": [
    {
     "name": "stderr",
     "output_type": "stream",
     "text": [
      "C:\\Users\\AttahiruJibril\\AppData\\Local\\Temp\\ipykernel_9960\\3897230354.py:31: UserWarning: set_ticklabels() should only be used with a fixed number of ticks, i.e. after set_ticks() or using a FixedLocator.\n",
      "  ax.set_xticklabels([''] + all_categories, rotation = 90)\n",
      "C:\\Users\\AttahiruJibril\\AppData\\Local\\Temp\\ipykernel_9960\\3897230354.py:32: UserWarning: set_ticklabels() should only be used with a fixed number of ticks, i.e. after set_ticks() or using a FixedLocator.\n",
      "  ax.set_yticklabels([''] + all_categories)\n"
     ]
    },
    {
     "data": {
      "image/png": "[encoded data removed]",
      "text/plain": [
       "<Figure size 640x480 with 2 Axes>"
      ]
     },
     "metadata": {},
     "output_type": "display_data"
    }
   ],
   "source": [
    "confusion = torch.zeros(n_categories, n_categories)\n",
    "n_confusion = 10000\n",
    "\n",
    "# return an output give a word\n",
    "def evaluate(word_tensor):\n",
    "\thidden = rnn.init_hidden()\n",
    "\t\n",
    "\tfor i in range(word_tensor.size()[0]):\n",
    "\t\toutput, hidden = rnn(word_tensor[i], hidden)\n",
    "\t\n",
    "\treturn output\n",
    "\n",
    "#record correct guesses from examples\n",
    "for i in range(n_confusion):\n",
    "    category, word, category_tensor, word_tensor = random_training_example()\n",
    "    output = evaluate(word_tensor)\n",
    "    guess, guess_idx = category_from_output(output)\n",
    "    category_idx = all_categories.index(category)\n",
    "    confusion[category_idx][guess_idx] += 1\n",
    "    \n",
    "# normalize confusion\n",
    "for i in range(n_categories):\n",
    "    confusion[i] = confusion[i]/confusion[i].sum()\n",
    "\n",
    "#plot \n",
    "fig = plt.figure()\n",
    "ax = fig.add_subplot(111)\n",
    "cax = ax.matshow(confusion.numpy())\n",
    "fig.colorbar(cax)\n",
    "\n",
    "ax.set_xticklabels([''] + all_categories, rotation = 90)\n",
    "ax.set_yticklabels([''] + all_categories)\n",
    "\n",
    "ax.xaxis.set_major_locator(ticker.MultipleLocator(1))\n",
    "ax.yaxis.set_major_locator(ticker.MultipleLocator(1))\n",
    "\n",
    "plt.show()"
   ]
  },
  {
   "cell_type": "code",
   "execution_count": 15,
   "metadata": {},
   "outputs": [
    {
     "name": "stdout",
     "output_type": "stream",
     "text": [
      "\n",
      "> Jackson\n",
      "(-1.28) Russian\n",
      "(-1.66) Scottish\n",
      "(-2.09) Irish\n",
      "\n",
      "> Dovesky\n",
      "(-0.85) Polish\n",
      "(-1.75) Russian\n",
      "(-2.20) Czech\n",
      "\n",
      "> Derrick\n",
      "(-2.06) Czech\n",
      "(-2.10) Polish\n",
      "(-2.37) English\n"
     ]
    }
   ],
   "source": [
    "def predict(input_word, n_predictions=3):\n",
    "    print('\\n> %s' % input_word)\n",
    "    with torch.no_grad():\n",
    "        output = evaluate(word_to_tensor(input_word))\n",
    "        top_pred, top_pred_idx = output.topk(n_predictions, 1, True)\n",
    "        predictions = []\n",
    "        \n",
    "        for i in range(n_predictions):\n",
    "            pred = top_pred[0][i].item()\n",
    "            category_idx = top_pred_idx[0][i].item()\n",
    "            print('(%.2f) %s' % (pred, all_categories[category_idx]))\n",
    "            predictions.append([pred, all_categories[category_idx]])\n",
    "\n",
    "\n",
    "predict('Jackson')\n",
    "predict('Dovesky')\n",
    "predict('Derrick')"
   ]
  },
  {
   "cell_type": "code",
   "execution_count": null,
   "metadata": {},
   "outputs": [],
   "source": []
  }
 ],
 "metadata": {
  "kernelspec": {
   "display_name": "ML-AI",
   "language": "python",
   "name": "python3"
  },
  "language_info": {
   "codemirror_mode": {
    "name": "ipython",
    "version": 3
   },
   "file_extension": ".py",
   "mimetype": "text/x-python",
   "name": "python",
   "nbconvert_exporter": "python",
   "pygments_lexer": "ipython3",
   "version": "3.12.1"
  }
 },
 "nbformat": 4,
 "nbformat_minor": 2
}
